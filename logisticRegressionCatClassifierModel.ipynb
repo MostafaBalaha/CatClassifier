{
 "cells": [
  {
   "cell_type": "code",
   "execution_count": 2,
   "metadata": {},
   "outputs": [],
   "source": [
    "import numpy as np\n",
    "import matplotlib.pyplot as plt\n",
    "from lr_utils import load_dataset\n",
    "import cv2"
   ]
  },
  {
   "cell_type": "code",
   "execution_count": 3,
   "metadata": {},
   "outputs": [],
   "source": [
    "#data Preprocess\n",
    "\n",
    "TrainSet_X,TrainSet_Y,TestSet_X,TestSet_Y,classes = load_dataset()\n",
    "#209 train example\n",
    "#50 test example\n",
    "# 0 > non cat\n",
    "# 1 > cat\n",
    "#print(TrainSet_Y.shape)\n",
    "\n",
    "mTrain = TrainSet_X.shape[0]\n",
    "mTest = TestSet_X.shape[0]\n",
    "px = TrainSet_X.shape[1]\n",
    "\n",
    "#Flatting the images\n",
    "TrainSet_X_Flatten = TrainSet_X.reshape(mTrain, -1).T\n",
    "TestSet_X_Flatten = TestSet_X.reshape(mTest, -1).T\n",
    "\n",
    "#normalizing\n",
    "normalTrainX = TrainSet_X_Flatten/255\n",
    "normalTestX = TestSet_X_Flatten / 255"
   ]
  },
  {
   "cell_type": "code",
   "execution_count": 4,
   "metadata": {},
   "outputs": [],
   "source": [
    "def sigmoid(z):\n",
    "    return 1/(1 + np.exp(-z))\n",
    "def initializeWithZeros(shape):\n",
    "    w = np.zeros((shape,1))\n",
    "    b = 0\n",
    "    return w,b\n"
   ]
  },
  {
   "cell_type": "code",
   "execution_count": 5,
   "metadata": {},
   "outputs": [],
   "source": [
    "def forwardPropagation(X,Y,w,b):\n",
    "    m = X.shape[1]\n",
    "    Z = np.dot(w.T,X) + b\n",
    "    A = sigmoid(Z)\n",
    "    cost = -1/m *( np.sum(Y*np.log(A) - (1-Y) * np.log(1-A) ) )\n",
    "    dw = (1/m) * (np.dot(X,(A-Y).T))\n",
    "    db = (1/m) * (np.sum(A-Y))\n",
    "    cost = np.squeeze(cost)\n",
    "    gradient = {\"dw\":dw, \"db\":db}\n",
    "    return cost,gradient"
   ]
  },
  {
   "cell_type": "code",
   "execution_count": 6,
   "metadata": {},
   "outputs": [],
   "source": [
    "def optimization(X,Y,w,b, num_iterations, learning_rate):\n",
    "    costs=[]\n",
    "    for i in range(num_iterations):\n",
    "        cost,gradient = forwardPropagation(X,Y,w,b);\n",
    "        dw = gradient['dw']\n",
    "        db = gradient['db']\n",
    "        w = w - learning_rate * dw\n",
    "        b = b - learning_rate * db\n",
    "        costs.append(cost)\n",
    "        if i % 500 == 0:\n",
    "            print(\"Cost at iteration %i, is %f\" %(i,cost))\n",
    "    \n",
    "    parameters = {'w':w,'b':b}\n",
    "    gradient = {\"dw\":dw, \"db\":db}\n",
    "    return parameters, costs, gradient"
   ]
  },
  {
   "cell_type": "code",
   "execution_count": 7,
   "metadata": {},
   "outputs": [],
   "source": [
    "def prediction(X,w,b):\n",
    "    m = X.shape[1]\n",
    "    Y_predicted = np.zeros((1,m))\n",
    "    w = w.reshape(X.shape[0],1)\n",
    "    A = sigmoid(np.dot(w.T,X)+b)\n",
    "    for i in range(m):\n",
    "        if(A[0,i] >= 0.5):\n",
    "            Y_predicted[0,i] = 1\n",
    "        else:\n",
    "            Y_predicted[0,i] = 0\n",
    "    return Y_predicted;"
   ]
  },
  {
   "cell_type": "code",
   "execution_count": 8,
   "metadata": {},
   "outputs": [],
   "source": [
    "def logRegModel(X_train, Y_train, X_test, Y_test, num_iterations = 5000, learning_rate = 0.001):\n",
    "    m = X_train.shape[0]\n",
    "    \n",
    "    w,b = initializeWithZeros(m)\n",
    "    parameters, costs, gradient = optimization(X_train,Y_train,w,b, num_iterations, learning_rate)\n",
    "    w = parameters['w']\n",
    "    b = parameters['b']\n",
    "    \n",
    "    Y_Train_Prediction = prediction(X_train,w,b)\n",
    "    Y_Test_Prediction = prediction(X_test,w,b)\n",
    "    trainAcc = 100-np.mean(np.abs(Y_Train_Prediction-Y_train))*100\n",
    "    testAcc = 100-np.mean(np.abs(Y_Test_Prediction-Y_test))*100\n",
    "    print('Train Accuracy: ' + str(trainAcc))\n",
    "    print('Test Accuracy: ' + str(testAcc))    \n",
    "  \n",
    "    return w,b,costs"
   ]
  },
  {
   "cell_type": "code",
   "execution_count": 9,
   "metadata": {},
   "outputs": [
    {
     "name": "stdout",
     "output_type": "stream",
     "text": [
      "Cost at iteration 0, is -0.215572\n",
      "Cost at iteration 500, is 0.034958\n",
      "Cost at iteration 1000, is 0.026305\n",
      "Cost at iteration 1500, is 0.021312\n",
      "Cost at iteration 2000, is 0.017811\n",
      "Cost at iteration 2500, is 0.015150\n",
      "Cost at iteration 3000, is 0.013032\n",
      "Cost at iteration 3500, is 0.011292\n",
      "Cost at iteration 4000, is 0.009832\n",
      "Cost at iteration 4500, is 0.008590\n",
      "Train Accuracy: 96.65071770334929\n",
      "Test Accuracy: 74.0\n"
     ]
    }
   ],
   "source": [
    "w,b,costs = logRegModel(normalTrainX,TrainSet_Y,normalTestX,TestSet_Y)\n"
   ]
  },
  {
   "cell_type": "code",
   "execution_count": 10,
   "metadata": {
    "scrolled": true
   },
   "outputs": [
    {
     "data": {
      "image/png": "[encoded data removed]",
      "text/plain": [
       "<Figure size 432x288 with 1 Axes>"
      ]
     },
     "metadata": {
      "needs_background": "light"
     },
     "output_type": "display_data"
    }
   ],
   "source": [
    "costs = np.array(costs[20:-1])\n",
    "plt.plot(costs)\n",
    "plt.show()\n"
   ]
  },
  {
   "cell_type": "code",
   "execution_count": 19,
   "metadata": {},
   "outputs": [
    {
     "name": "stdout",
     "output_type": "stream",
     "text": [
      "cat\n"
     ]
    }
   ],
   "source": [
    "imagePath = './images/cat3.jpg'\n",
    "img = cv2.imread(imagePath)\n",
    "image = cv2.resize(img, dsize=(px, px))\n",
    "imageArr = image.reshape((1,px*px*3)).T\n",
    "cv2.imshow(\"image\",image)\n",
    "cv2.waitKey(0)\n",
    "print('cat' if prediction(imageArr,w,b)[0][0] == 1 else 'Not a cat')"
   ]
  },
  {
   "cell_type": "code",
   "execution_count": null,
   "metadata": {},
   "outputs": [],
   "source": []
  },
  {
   "cell_type": "code",
   "execution_count": null,
   "metadata": {},
   "outputs": [],
   "source": []
  }
 ],
 "metadata": {
  "kernelspec": {
   "display_name": "Python 3",
   "language": "python",
   "name": "python3"
  },
  "language_info": {
   "codemirror_mode": {
    "name": "ipython",
    "version": 3
   },
   "file_extension": ".py",
   "mimetype": "text/x-python",
   "name": "python",
   "nbconvert_exporter": "python",
   "pygments_lexer": "ipython3",
   "version": "3.7.3"
  }
 },
 "nbformat": 4,
 "nbformat_minor": 2
}
